{
  "cells": [
    {
      "cell_type": "markdown",
      "source": [
        "<iframe width=\"100%\" height=\"500\" frameborder=\"0\"\n",
        "  src=\"https://observablehq.com/embed/@mandykeck/projektdokumentation_vis22?cell=*\"></iframe>"
      ],
      "metadata": {
        "nteract": {
          "transient": {
            "deleting": false
          }
        },
        "id": "Ys7FNra44rqz"
      }
    },
    {
      "cell_type": "markdown",
      "source": [
        "Projektdokumentation Informationsvisualisierung (17\\_VIS2I)\n",
        "===========================================================\n",
        "\n",
        "_Angabe TEAM 9 \"HitOderNit?\"_"
      ],
      "metadata": {
        "nteract": {
          "transient": {
            "deleting": false
          }
        },
        "id": "Sj-gljg74rq1"
      }
    },
    {
      "cell_type": "markdown",
      "source": [
        "1\\. Datenanalyse und Exploration\n",
        "--------------------------------"
      ],
      "metadata": {
        "nteract": {
          "transient": {
            "deleting": false
          }
        },
        "id": "qOaRDG4-4rq4"
      }
    },
    {
      "cell_type": "markdown",
      "source": [
        "### Data Abstraction\n",
        "<a style=\"color:gray\" id=info>\n",
        "Kurze Beschreibung des Datensatzes (Inhalt) und Herkunft der Daten (z.B. Link)<br>\n",
        "Binden Sie den Datensatz in das Notebook ein und zeigen diesen in Form einer Übersicht!<br>\n",
        "Wie groß ist der Datensatz in Bezug auf Zeilen (Anzahl der Elemente) und Spalten (uni-, bi-, multivariat)?<br>\n",
        "Welchen Attributtyp haben die einzelnen Spalten (nominal, ordinal, quantitativ)?<br>\n",
        "Welche Datenstruktur(en) stecken in dem Datensatz (z.B. hierarchisch, geografisch, temporal)<br>\n",
        "</section>"
      ],
      "metadata": {
        "nteract": {
          "transient": {
            "deleting": false
          }
        },
        "id": "I9O6rpcH4rq5"
      }
    },
    {
      "cell_type": "markdown",
      "source": [
        "\n",
        "Features von Tracks von Spotify Web-API (Lieder von 1960 – 2019) <br>\n",
        "<b>Attribute & Attributtyp:</b>\t\n",
        "1. <b>Qualitativ<br>\n",
        "\tNominale Daten: </b>\n",
        "\t- track: The Name of the track.\n",
        "\t- artist: The Name of the Artist.\n",
        "\t- uri: The resource identifier for the track.<br><b>\n",
        "\tBinary Daten: </b>\n",
        "\t- target: The target variable for the track. It can be either '0' or '1'. '1' implies that this song has featured in the weekly list (Issued by Billboards) of Hot-100 tracks in that decade at least once and is therefore a 'hit'. '0' Implies that the track is a 'flop'.\n",
        "\t- mode: Mode indicates the modality (major or minor) of a track, the type of scale from which its melodic content is derived. Major is represented by 1 and minor is 0.\n",
        "\t<br>\n",
        "\t<br>\n",
        "\n",
        "\t\n",
        "2. <b>Quantitative:</b>\n",
        "\t- danceability: . A value of 0.0 is least danceable and 1.0 is most danceable. \n",
        "\t- energy: Energy is a measure from 0.0 to 1.0 and represents a perceptual measure of intensity and activity.\n",
        "\t- key: The estimated overall key of the track. Integers map to pitches using standard Pitch Class notation. E.g. 0 = C, 1 = C?/D?, 2 = D, and so on. If no key was detected, the value is -1.\n",
        "\t- loudness: The overall loudness of a track in decibels (dB). Loudness values are averaged across the entire track and are useful for comparing relative loudness of tracks. Loudness is the quality of a sound that is the primary psychological correlate of physical strength (amplitude). Values typical range between -60 and 0 db. \n",
        "\t- speechiness: Speechiness detects the presence of spoken words in a track. The more exclusively speech-like the recording (e.g. talk show, audio book, poetry), the closer to 1.0 the attribute value. \n",
        "\t- acousticness: A confidence measure from 0.0 to 1.0 of whether the track is acoustic. 1.0 represents high confidence the track is acoustic. The distribution of values for this feature look like this:\n",
        "\t- instrumentalness: Predicts whether a track contains no vocals. The closer the instrumentalness value is to 1.0, the greater likelihood the track contains no vocal content. \n",
        "\t- liveness: Detects the presence of an audience in the recording. Higher liveness values represent an increased probability that the track was performed live. A value above 0.8 provides strong likelihood that the track is live.\n",
        "\t- valence: A measure from 0.0 to 1.0 describing the musical positiveness conveyed by a track. Tracks with high valence sound more positive (e.g. happy, cheerful, euphoric), while tracks with low valence sound more negative (e.g. sad, depressed, angry).\n",
        "\t- tempo: The overall estimated tempo of a track in beats per minute (BPM). In musical terminology, tempo is the speed or pace of a given piece and derives directly from the average beat duration. \n",
        "\t- duration_ms:  The duration of the track in milliseconds.\n",
        "\t- time_signature: An estimated overall time signature of a track. The time signature (meter) is a notational convention to specify how many beats are in each bar (or measure).\n",
        "\t- chorus_hit: This the the author's best estimate of when the chorus would start for the track. Its the timestamp of the start of the third section of the track. This feature was extracted from the data received by the API call for Audio Analysis of that particular track.\n",
        "\t- sections: The number of sections the particular track has. This feature was extracted from the data received by the API call for Audio Analysis of that particular track.\n",
        "<br>\n",
        "<br>\n",
        "Source: https://www.kaggle.com/datasets/theoverman/the-spotify-hit-predictor-dataset <br><br>\n",
        "Datensatz ist <b>multivariant</b><br><br>\n",
        "<b>TO DO: Datenstruktur - kennt sich da wer aus?</b>\n",
        "\n",
        "\n",
        "\n"
      ],
      "metadata": {
        "nteract": {
          "transient": {
            "deleting": false
          }
        },
        "id": "xdLW7GTb4rq6"
      }
    },
    {
      "cell_type": "markdown",
      "source": [
        "#### Datensatz Descriptive Statistik"
      ],
      "metadata": {
        "nteract": {
          "transient": {
            "deleting": false
          }
        },
        "id": "wVYvKE4z4rq8"
      }
    },
    {
      "cell_type": "code",
      "source": [
        "import numpy as np\n",
        "import pandas as pd\n",
        "import matplotlib.pyplot as plt\n",
        "import seaborn as sb\n",
        "\n",
        "url = 'https://github.com/aexsi/HCC_VIS_TEAM9/raw/main/Dataset_Total.csv'\n",
        "df = pd.read_csv(url)\n",
        "\n",
        "\n",
        "#some columns are named ubiquitous\n",
        "df = df.rename(columns={\"target\": \"is_hit\", \"mode\": \"is_major\", \"time_signature\": \"tact/4\"})\n",
        "\n",
        "desc = df.describe(include='all')\n",
        "count = desc.iloc[1,1]\n",
        "print( 'Total dataset rows: ', count )\n",
        "print( 'Total dataset columns: ', len(desc.columns) )#, '(', desc.columns, ')' )\n",
        "desc.iloc[4:,4:]\n",
        "\n"
      ],
      "outputs": [
        {
          "output_type": "stream",
          "name": "stdout",
          "text": [
            "Total dataset rows:  35860\n",
            "Total dataset columns:  20\n"
          ]
        },
        {
          "output_type": "execute_result",
          "data": {
            "text/plain": [
              "      danceability    energy        key   loudness  is_major  speechiness  \\\n",
              "mean      0.539695  0.579545   5.213594 -10.221525  0.693354     0.072960   \n",
              "std       0.177821  0.252628   3.534977   5.311626  0.461107     0.086112   \n",
              "min       0.000000  0.000251   0.000000 -49.253000  0.000000     0.000000   \n",
              "25%       0.420000  0.396000   2.000000 -12.816000  0.000000     0.033700   \n",
              "50%       0.552000  0.601000   5.000000  -9.257000  1.000000     0.043400   \n",
              "75%       0.669000  0.787000   8.000000  -6.374250  1.000000     0.069800   \n",
              "max       0.988000  1.000000  11.000000   3.744000  1.000000     0.960000   \n",
              "\n",
              "      acousticness  instrumentalness  liveness   valence       tempo  \\\n",
              "mean      0.364197          0.154416  0.201535  0.542440  119.338249   \n",
              "std       0.338913          0.303530  0.172959  0.267329   29.098845   \n",
              "min       0.000000          0.000000  0.013000  0.000000    0.000000   \n",
              "25%       0.039400          0.000000  0.094000  0.330000   97.397000   \n",
              "50%       0.258000          0.000120  0.132000  0.558000  117.565000   \n",
              "75%       0.676000          0.061250  0.261000  0.768000  136.494000   \n",
              "max       0.996000          1.000000  0.999000  0.996000  241.423000   \n",
              "\n",
              "       duration_ms    tact/4  chorus_hit    sections    is_hit  \n",
              "mean  2.348776e+05  3.893689   40.106041   10.475673  0.500000  \n",
              "std   1.189674e+05  0.423073   19.005515    4.871850  0.500006  \n",
              "min   1.516800e+04  0.000000    0.000000    0.000000  0.000000  \n",
              "25%   1.729278e+05  4.000000   27.599792    8.000000  0.000000  \n",
              "50%   2.179070e+05  4.000000   35.850795   10.000000  0.500000  \n",
              "75%   2.667730e+05  4.000000   47.625615   12.000000  1.000000  \n",
              "max   4.170227e+06  5.000000  433.182000  169.000000  1.000000  "
            ],
            "text/html": [
              "\n",
              "  <div id=\"df-a7f4b279-9b60-4d67-bc0c-99bbbf23a7d5\">\n",
              "    <div class=\"colab-df-container\">\n",
              "      <div>\n",
              "<style scoped>\n",
              "    .dataframe tbody tr th:only-of-type {\n",
              "        vertical-align: middle;\n",
              "    }\n",
              "\n",
              "    .dataframe tbody tr th {\n",
              "        vertical-align: top;\n",
              "    }\n",
              "\n",
              "    .dataframe thead th {\n",
              "        text-align: right;\n",
              "    }\n",
              "</style>\n",
              "<table border=\"1\" class=\"dataframe\">\n",
              "  <thead>\n",
              "    <tr style=\"text-align: right;\">\n",
              "      <th></th>\n",
              "      <th>danceability</th>\n",
              "      <th>energy</th>\n",
              "      <th>key</th>\n",
              "      <th>loudness</th>\n",
              "      <th>is_major</th>\n",
              "      <th>speechiness</th>\n",
              "      <th>acousticness</th>\n",
              "      <th>instrumentalness</th>\n",
              "      <th>liveness</th>\n",
              "      <th>valence</th>\n",
              "      <th>tempo</th>\n",
              "      <th>duration_ms</th>\n",
              "      <th>tact/4</th>\n",
              "      <th>chorus_hit</th>\n",
              "      <th>sections</th>\n",
              "      <th>is_hit</th>\n",
              "    </tr>\n",
              "  </thead>\n",
              "  <tbody>\n",
              "    <tr>\n",
              "      <th>mean</th>\n",
              "      <td>0.539695</td>\n",
              "      <td>0.579545</td>\n",
              "      <td>5.213594</td>\n",
              "      <td>-10.221525</td>\n",
              "      <td>0.693354</td>\n",
              "      <td>0.072960</td>\n",
              "      <td>0.364197</td>\n",
              "      <td>0.154416</td>\n",
              "      <td>0.201535</td>\n",
              "      <td>0.542440</td>\n",
              "      <td>119.338249</td>\n",
              "      <td>2.348776e+05</td>\n",
              "      <td>3.893689</td>\n",
              "      <td>40.106041</td>\n",
              "      <td>10.475673</td>\n",
              "      <td>0.500000</td>\n",
              "    </tr>\n",
              "    <tr>\n",
              "      <th>std</th>\n",
              "      <td>0.177821</td>\n",
              "      <td>0.252628</td>\n",
              "      <td>3.534977</td>\n",
              "      <td>5.311626</td>\n",
              "      <td>0.461107</td>\n",
              "      <td>0.086112</td>\n",
              "      <td>0.338913</td>\n",
              "      <td>0.303530</td>\n",
              "      <td>0.172959</td>\n",
              "      <td>0.267329</td>\n",
              "      <td>29.098845</td>\n",
              "      <td>1.189674e+05</td>\n",
              "      <td>0.423073</td>\n",
              "      <td>19.005515</td>\n",
              "      <td>4.871850</td>\n",
              "      <td>0.500006</td>\n",
              "    </tr>\n",
              "    <tr>\n",
              "      <th>min</th>\n",
              "      <td>0.000000</td>\n",
              "      <td>0.000251</td>\n",
              "      <td>0.000000</td>\n",
              "      <td>-49.253000</td>\n",
              "      <td>0.000000</td>\n",
              "      <td>0.000000</td>\n",
              "      <td>0.000000</td>\n",
              "      <td>0.000000</td>\n",
              "      <td>0.013000</td>\n",
              "      <td>0.000000</td>\n",
              "      <td>0.000000</td>\n",
              "      <td>1.516800e+04</td>\n",
              "      <td>0.000000</td>\n",
              "      <td>0.000000</td>\n",
              "      <td>0.000000</td>\n",
              "      <td>0.000000</td>\n",
              "    </tr>\n",
              "    <tr>\n",
              "      <th>25%</th>\n",
              "      <td>0.420000</td>\n",
              "      <td>0.396000</td>\n",
              "      <td>2.000000</td>\n",
              "      <td>-12.816000</td>\n",
              "      <td>0.000000</td>\n",
              "      <td>0.033700</td>\n",
              "      <td>0.039400</td>\n",
              "      <td>0.000000</td>\n",
              "      <td>0.094000</td>\n",
              "      <td>0.330000</td>\n",
              "      <td>97.397000</td>\n",
              "      <td>1.729278e+05</td>\n",
              "      <td>4.000000</td>\n",
              "      <td>27.599792</td>\n",
              "      <td>8.000000</td>\n",
              "      <td>0.000000</td>\n",
              "    </tr>\n",
              "    <tr>\n",
              "      <th>50%</th>\n",
              "      <td>0.552000</td>\n",
              "      <td>0.601000</td>\n",
              "      <td>5.000000</td>\n",
              "      <td>-9.257000</td>\n",
              "      <td>1.000000</td>\n",
              "      <td>0.043400</td>\n",
              "      <td>0.258000</td>\n",
              "      <td>0.000120</td>\n",
              "      <td>0.132000</td>\n",
              "      <td>0.558000</td>\n",
              "      <td>117.565000</td>\n",
              "      <td>2.179070e+05</td>\n",
              "      <td>4.000000</td>\n",
              "      <td>35.850795</td>\n",
              "      <td>10.000000</td>\n",
              "      <td>0.500000</td>\n",
              "    </tr>\n",
              "    <tr>\n",
              "      <th>75%</th>\n",
              "      <td>0.669000</td>\n",
              "      <td>0.787000</td>\n",
              "      <td>8.000000</td>\n",
              "      <td>-6.374250</td>\n",
              "      <td>1.000000</td>\n",
              "      <td>0.069800</td>\n",
              "      <td>0.676000</td>\n",
              "      <td>0.061250</td>\n",
              "      <td>0.261000</td>\n",
              "      <td>0.768000</td>\n",
              "      <td>136.494000</td>\n",
              "      <td>2.667730e+05</td>\n",
              "      <td>4.000000</td>\n",
              "      <td>47.625615</td>\n",
              "      <td>12.000000</td>\n",
              "      <td>1.000000</td>\n",
              "    </tr>\n",
              "    <tr>\n",
              "      <th>max</th>\n",
              "      <td>0.988000</td>\n",
              "      <td>1.000000</td>\n",
              "      <td>11.000000</td>\n",
              "      <td>3.744000</td>\n",
              "      <td>1.000000</td>\n",
              "      <td>0.960000</td>\n",
              "      <td>0.996000</td>\n",
              "      <td>1.000000</td>\n",
              "      <td>0.999000</td>\n",
              "      <td>0.996000</td>\n",
              "      <td>241.423000</td>\n",
              "      <td>4.170227e+06</td>\n",
              "      <td>5.000000</td>\n",
              "      <td>433.182000</td>\n",
              "      <td>169.000000</td>\n",
              "      <td>1.000000</td>\n",
              "    </tr>\n",
              "  </tbody>\n",
              "</table>\n",
              "</div>\n",
              "      <button class=\"colab-df-convert\" onclick=\"convertToInteractive('df-a7f4b279-9b60-4d67-bc0c-99bbbf23a7d5')\"\n",
              "              title=\"Convert this dataframe to an interactive table.\"\n",
              "              style=\"display:none;\">\n",
              "        \n",
              "  <svg xmlns=\"http://www.w3.org/2000/svg\" height=\"24px\"viewBox=\"0 0 24 24\"\n",
              "       width=\"24px\">\n",
              "    <path d=\"M0 0h24v24H0V0z\" fill=\"none\"/>\n",
              "    <path d=\"M18.56 5.44l.94 2.06.94-2.06 2.06-.94-2.06-.94-.94-2.06-.94 2.06-2.06.94zm-11 1L8.5 8.5l.94-2.06 2.06-.94-2.06-.94L8.5 2.5l-.94 2.06-2.06.94zm10 10l.94 2.06.94-2.06 2.06-.94-2.06-.94-.94-2.06-.94 2.06-2.06.94z\"/><path d=\"M17.41 7.96l-1.37-1.37c-.4-.4-.92-.59-1.43-.59-.52 0-1.04.2-1.43.59L10.3 9.45l-7.72 7.72c-.78.78-.78 2.05 0 2.83L4 21.41c.39.39.9.59 1.41.59.51 0 1.02-.2 1.41-.59l7.78-7.78 2.81-2.81c.8-.78.8-2.07 0-2.86zM5.41 20L4 18.59l7.72-7.72 1.47 1.35L5.41 20z\"/>\n",
              "  </svg>\n",
              "      </button>\n",
              "      \n",
              "  <style>\n",
              "    .colab-df-container {\n",
              "      display:flex;\n",
              "      flex-wrap:wrap;\n",
              "      gap: 12px;\n",
              "    }\n",
              "\n",
              "    .colab-df-convert {\n",
              "      background-color: #E8F0FE;\n",
              "      border: none;\n",
              "      border-radius: 50%;\n",
              "      cursor: pointer;\n",
              "      display: none;\n",
              "      fill: #1967D2;\n",
              "      height: 32px;\n",
              "      padding: 0 0 0 0;\n",
              "      width: 32px;\n",
              "    }\n",
              "\n",
              "    .colab-df-convert:hover {\n",
              "      background-color: #E2EBFA;\n",
              "      box-shadow: 0px 1px 2px rgba(60, 64, 67, 0.3), 0px 1px 3px 1px rgba(60, 64, 67, 0.15);\n",
              "      fill: #174EA6;\n",
              "    }\n",
              "\n",
              "    [theme=dark] .colab-df-convert {\n",
              "      background-color: #3B4455;\n",
              "      fill: #D2E3FC;\n",
              "    }\n",
              "\n",
              "    [theme=dark] .colab-df-convert:hover {\n",
              "      background-color: #434B5C;\n",
              "      box-shadow: 0px 1px 3px 1px rgba(0, 0, 0, 0.15);\n",
              "      filter: drop-shadow(0px 1px 2px rgba(0, 0, 0, 0.3));\n",
              "      fill: #FFFFFF;\n",
              "    }\n",
              "  </style>\n",
              "\n",
              "      <script>\n",
              "        const buttonEl =\n",
              "          document.querySelector('#df-a7f4b279-9b60-4d67-bc0c-99bbbf23a7d5 button.colab-df-convert');\n",
              "        buttonEl.style.display =\n",
              "          google.colab.kernel.accessAllowed ? 'block' : 'none';\n",
              "\n",
              "        async function convertToInteractive(key) {\n",
              "          const element = document.querySelector('#df-a7f4b279-9b60-4d67-bc0c-99bbbf23a7d5');\n",
              "          const dataTable =\n",
              "            await google.colab.kernel.invokeFunction('convertToInteractive',\n",
              "                                                     [key], {});\n",
              "          if (!dataTable) return;\n",
              "\n",
              "          const docLinkHtml = 'Like what you see? Visit the ' +\n",
              "            '<a target=\"_blank\" href=https://colab.research.google.com/notebooks/data_table.ipynb>data table notebook</a>'\n",
              "            + ' to learn more about interactive tables.';\n",
              "          element.innerHTML = '';\n",
              "          dataTable['output_type'] = 'display_data';\n",
              "          await google.colab.output.renderOutput(dataTable, element);\n",
              "          const docLink = document.createElement('div');\n",
              "          docLink.innerHTML = docLinkHtml;\n",
              "          element.appendChild(docLink);\n",
              "        }\n",
              "      </script>\n",
              "    </div>\n",
              "  </div>\n",
              "  "
            ]
          },
          "metadata": {},
          "execution_count": 4
        }
      ],
      "execution_count": 4,
      "metadata": {
        "jupyter": {
          "source_hidden": false,
          "outputs_hidden": false
        },
        "nteract": {
          "transient": {
            "deleting": false
          }
        },
        "gather": {
          "logged": 1649537397414
        },
        "colab": {
          "base_uri": "https://localhost:8080/",
          "height": 304
        },
        "id": "Ny0089Ti4rq-",
        "outputId": "f980c7e2-6780-4e44-896b-89c9f248559c"
      }
    },
    {
      "cell_type": "code",
      "source": [
        "#Normierung\n",
        "def minmax_norm(df_input):\n",
        "    dat = df_input\n",
        "    dat = dat - dat.min()\n",
        "    dat = dat / dat.max()\n",
        "    return dat\n",
        "\n",
        "df_norm = df.iloc[:,2:]\n",
        "df_norm['key'] = minmax_norm(df['key'])\n",
        "df_norm['loudness'] = minmax_norm(df['loudness'])\n",
        "df_norm['tempo'] = minmax_norm(df['tempo'])\n",
        "df_norm['duration_ms'] = minmax_norm(df['duration_ms'])\n",
        "df_norm['tact/4'] = minmax_norm(df['tact/4'])\n",
        "df_norm['chorus_hit'] = minmax_norm(df['chorus_hit'])\n",
        "df_norm['sections'] = minmax_norm(df['sections'])"
      ],
      "outputs": [],
      "execution_count": 6,
      "metadata": {
        "jupyter": {
          "source_hidden": false,
          "outputs_hidden": false
        },
        "nteract": {
          "transient": {
            "deleting": false
          }
        },
        "gather": {
          "logged": 1649536273197
        },
        "id": "WjlRbQpG4rrA"
      }
    },
    {
      "cell_type": "markdown",
      "source": [
        "##### Distribution overview\n",
        "of normalized data ( [min..max] -> [0..1] )"
      ],
      "metadata": {
        "nteract": {
          "transient": {
            "deleting": false
          }
        },
        "id": "_-5DM2CP4rrB"
      }
    },
    {
      "cell_type": "code",
      "source": [
        "plt.figure(figsize=(20,5))\n",
        "sb.violinplot( data = df_norm.iloc[:,[0,1,2,6,9]], inner='quart' )\n",
        "plt.show()\n",
        "plt.figure(figsize=(20,5))\n",
        "sb.violinplot( data = df_norm.iloc[:,[3,8,10,4,7]], inner='quart' )\n",
        "plt.show()\n",
        "plt.figure(figsize=(20,5))\n",
        "sb.violinplot( data = df_norm.iloc[:,[5,15,11,12,14]], inner='quart' )\n",
        "plt.show()"
      ],
      "outputs": [
        {
          "output_type": "display_data",
          "data": {
            "text/plain": [
              "<Figure size 1440x360 with 1 Axes>"
            ],
            "image/png": "[encoded data removed]"
          },
          "metadata": {
            "needs_background": "light"
          }
        },
        {
          "output_type": "display_data",
          "data": {
            "text/plain": [
              "<Figure size 1440x360 with 1 Axes>"
            ],
            "image/png": "[encoded data removed]"
          },
          "metadata": {
            "needs_background": "light"
          }
        },
        {
          "output_type": "display_data",
          "data": {
            "text/plain": [
              "<Figure size 1440x360 with 1 Axes>"
            ],
            "image/png": "[encoded data removed]"
          },
          "metadata": {
            "needs_background": "light"
          }
        }
      ],
      "execution_count": 7,
      "metadata": {
        "jupyter": {
          "source_hidden": false,
          "outputs_hidden": false
        },
        "nteract": {
          "transient": {
            "deleting": false
          }
        },
        "gather": {
          "logged": 1649511908786
        },
        "colab": {
          "base_uri": "https://localhost:8080/",
          "height": 928
        },
        "id": "kNpws1214rrC",
        "outputId": "e5a6b2ff-f43f-4d66-9862-3f273af442ce"
      }
    },
    {
      "cell_type": "markdown",
      "source": [
        "The violin plots show the distribution of the values at first glance. What we can see from the data is, that _danceability_ is pretty much gaussian distributed.\n",
        "Wheras _key_ and _energy_ seem uniform distributed - with _energy_ shifted slightly to one side. \n",
        "There are some items heavyly shifted to one side (_sections_, _time_signature_, _duration_, _instrumentalness_, _speechness_ and - not as pregnant - _liveness_).\n",
        "The Values of _acousticness_ reensemble a bathtube curve. Which means the values are shifted to the ends.\n",
        "A speciality are _target_ and _mode_ since these only allow values of 0 and 1 - they are binary.\n",
        "<br>\n",
        "There seems to be a narrow focus on _time signature_ of 4. Though a few songs also have a _time signature_ of 2.1 seconds. Songs with different _time signatures_ seem to be very rare. "
      ],
      "metadata": {
        "nteract": {
          "transient": {
            "deleting": false
          }
        },
        "id": "9-ueV6tC4rrC"
      }
    },
    {
      "cell_type": "markdown",
      "source": [
        "##### Correlation Matrix"
      ],
      "metadata": {
        "nteract": {
          "transient": {
            "deleting": false
          }
        },
        "id": "QVRBRSMa4rrD"
      }
    },
    {
      "cell_type": "code",
      "source": [
        "#Interactive Correlation Matrix\n",
        "from IPython.display import display \n",
        "import ipywidgets as widgets\n",
        "from ipywidgets import Layout\n",
        "import numpy as np\n",
        "import pandas as pd\n",
        "import matplotlib.pyplot as plt\n",
        "import seaborn as sb\n",
        "\n",
        "dfc = df.drop(columns=['uri','track','artist'])\n",
        "\n",
        "\n",
        "district = widgets.SelectMultiple(\n",
        "    options = dfc.columns.tolist()[1:],\n",
        "    rows = len(dfc.columns.tolist()[1:]),\n",
        "    value = dfc.columns.tolist()[1:],\n",
        "    description='Item',\n",
        "    disabled=False,\n",
        "    layout = Layout( display='flex')\n",
        ")\n",
        "\n",
        "yearitems = widgets.SelectMultiple(\n",
        "    options = dfc.decade.unique().tolist(),\n",
        "    rows = len(dfc.decade.unique().tolist()),\n",
        "    value = dfc.decade.unique().tolist(),\n",
        "    description='Decade',\n",
        "    disabled=False,\n",
        "    layout = Layout( display='flex')\n",
        ")\n",
        "\n",
        "\n",
        "def update(select, years):\n",
        "    #Correlation Matrix\n",
        "    pt = plt.figure(figsize=(8,6))\n",
        "    \n",
        "    if len(select) > 1:\n",
        "        items = list(select)\n",
        "    else:\n",
        "        print(\"select more items\")\n",
        "        items = list(district.options)\n",
        "    \n",
        "    dfe = dfc\n",
        "    dfe = dfe[dfe.decade.isin(years)]\n",
        "    cr = dfe[items].corr()\n",
        "    mask = np.triu(np.ones_like(cr, dtype=bool))\n",
        "    cr = dfe[items].corr().mask(mask)\n",
        "    cr = cr.iloc[1:,:-1]\n",
        "    print('Year(s):', years)\n",
        "    #display(wg = widgets.HBox([district,yearitems]))\n",
        "    display(hmp = sb.heatmap( cr, center=0 ))\n",
        "\n",
        "widgets.interactive(update, select=district, years=yearitems)"
      ],
      "outputs": [
        {
          "output_type": "display_data",
          "data": {
            "text/plain": [
              "interactive(children=(SelectMultiple(description='Item', index=(0, 1, 2, 3, 4, 5, 6, 7, 8, 9, 10, 11, 12, 13, …"
            ],
            "application/vnd.jupyter.widget-view+json": {
              "version_major": 2,
              "version_minor": 0,
              "model_id": "8c782d5e2af3440d9a2c051a1a34b07d"
            }
          },
          "metadata": {}
        }
      ],
      "execution_count": 24,
      "metadata": {
        "jupyter": {
          "source_hidden": false,
          "outputs_hidden": false
        },
        "nteract": {
          "transient": {
            "deleting": false
          }
        },
        "gather": {
          "logged": 1649538014520
        },
        "colab": {
          "base_uri": "https://localhost:8080/",
          "height": 921,
          "referenced_widgets": [
            "8c782d5e2af3440d9a2c051a1a34b07d",
            "3b7df5d482ff4e59bbdbbf00d65885dc",
            "cc3ee8553847469d9640df44c30b99b6",
            "6d3dff722eaa474fa807581d0f1e4762",
            "9e267e89a14643c1a0a7390ab3b682e7",
            "ed88007ade0d4e0f9153785a7cb2eac7",
            "1dab8244b5ab4e4baa26e9f375a0a0af",
            "1994c8f6183b4970b079f63e95840700",
            "e3723dee6a754610b21b4926a49750ff",
            "5d3d19e9c88147cfad0d8abf09942253"
          ]
        },
        "id": "Ob12sJzx4rrE",
        "outputId": "a5ee2b96-96bc-4984-b81a-50eda9f426f0"
      }
    },
    {
      "cell_type": "markdown",
      "source": [
        "The correlation matrix shows higher correlated items with lighter color, yellowish color with positive correlation, blueish colors mean negative correlation. Black items are not correlated. \n",
        "<br>\n",
        "So, if a song has high _acousicness_ it is less likely to have high _engergy_. Whereas songs with high _valence_ seem to also have more _danceability_. Also _duration_ and _sections_ are correlated. A long song also has more sections. The same is true for _loudness_ and _energy_: louder songs seem to have more energy. Whereas _acoustic_ songs are associated with low _energy_.\n",
        "<br>\n",
        "_chorus hit_ (first time when chorus is heard) doesn't correlate with any of the other items. Also the number of _sections_ is not much correlated with other items (exept for song _duration_).\n",
        "<br>\n",
        "Instrumental songs seem to tend to be slightly longer than average."
      ],
      "metadata": {
        "nteract": {
          "transient": {
            "deleting": false
          }
        },
        "id": "zysnEe3_4rrF"
      }
    },
    {
      "cell_type": "markdown",
      "source": [
        "### Task Abstraction\n",
        "<a style=\"color:gray\">\n",
        "Welche Fragen können mit dem gewählten Datensatz untersucht werden?<br>\n",
        "Welche abstrakten Aufgaben stecken in den Fragen (z.B. Finden von Ausreißern, Vergleich von mehreren Werten)?<br>\n",
        "Inwiefern ist es notwendig den Datensatz für die Beantwortung der Fragen anzupassen (z.B. Verknüpfungen, Filterung, Aggregation, Änderung des Detailgrads)? Bei großen Änderungen bitte den angepassten Datensatz in der Dokumentation einbinden/anzeigen.<br>\n",
        "</a>"
      ],
      "metadata": {
        "nteract": {
          "transient": {
            "deleting": false
          }
        },
        "id": "Ag_iNDHQ4rrF"
      }
    },
    {
      "cell_type": "markdown",
      "source": [
        "<b>Mögliche Fragestellungen:</b><br>\n",
        "- Zeigen ob Rhythmus und Tanzbarkeit zusammenhängen \n",
        "    <br>Klickbar machen für den User um Live zu schauen ob 2 Eigenschaften in Zusammenhang stehen\n",
        "- Veränderung über die Jahre zeigen: \n",
        "   <br> Ist die Tanzbarkeit über die Jahre höher / niedriger geworden?\n",
        "    <br>Gibt es pro Jahrzent weniger / mehr Hits? \n",
        "- Ähnliche Eigenschaften von Flop und Hits zeigen\n",
        "<br> Man kann klicken und entscheiden ob man Flops oder Hits sehen will\n",
        " -Klickbare Kategorien machen \n",
        "<br> Zeige alle tanzbaren hits /flops \n",
        "<br>Zeige alle Akustischen Hits .. <br><br>\n",
        "\n",
        "<b>Abstrakte Aufgaben</b><br>\n",
        "- Korrelation, Boxplot, finden von Ausreißern, T-test, Regression\n",
        "<br>\n",
        "<br>\n",
        "\n",
        "<b>Anpassung vom dem Datensatzes:</b><br>\n",
        "- Filterung, Agreggation\n"
      ],
      "metadata": {
        "nteract": {
          "transient": {
            "deleting": false
          }
        },
        "id": "ayEG1P4E4rrF"
      }
    },
    {
      "cell_type": "markdown",
      "source": [
        "### Visuelle Exploration des Datensatzes\n",
        "\n",
        "<a style=\"color:gray\">\n",
        "Explorieren Sie die Eigenschaften des Datensatzes mit mindestens zwei Visualisierungen pro Teammitglied! (z.B. Verteilungen oder Korrelationen untersuchen)<br>\n",
        "Was haben Sie über die Eigenschaften ihres Datensatzes erfahren?<br>\n",
        "<a>\n",
        "<span style=\"color:red\">_TODO until 30.04.2022 12:00_</style>\n"
      ],
      "metadata": {
        "nteract": {
          "transient": {
            "deleting": false
          }
        },
        "id": "dlho9jlZ4rrG"
      }
    },
    {
      "cell_type": "code",
      "source": [
        "from vega_datasets import data\n",
        "songs= data."
      ],
      "outputs": [],
      "execution_count": null,
      "metadata": {
        "jupyter": {
          "source_hidden": false,
          "outputs_hidden": false
        },
        "nteract": {
          "transient": {
            "deleting": false
          }
        },
        "id": "vNcUOWCA4rrG"
      }
    },
    {
      "cell_type": "markdown",
      "source": [
        "2\\. Konzeption\n",
        "----------\n",
        "\n"
      ],
      "metadata": {
        "nteract": {
          "transient": {
            "deleting": false
          }
        },
        "id": "of2Rj5cu4rrH"
      }
    },
    {
      "cell_type": "markdown",
      "source": [
        "### Related Work\n",
        "\n",
        "<a style=\"color:gray\">\n",
        "Welche Visualisierungstechniken haben Sie inspiriert (z.B. aus dem Internet, Vorlesungsfolien, Paper)?\n",
        "<a>"
      ],
      "metadata": {
        "nteract": {
          "transient": {
            "deleting": false
          }
        },
        "id": "NXwmbTTN4rrH"
      }
    },
    {
      "cell_type": "markdown",
      "source": [
        "### Sketching\n",
        "\n",
        "<a style=\"color:gray\">\n",
        "Diskutieren Sie verschiedene Alternativen zur Lösung der Aufgaben und laden Sie Skizzen dazu in die Dokumentation (mindestens 3 Skizzen pro Teammitglied, die für eine oder Kombination der Teilaufgaben geeignet ist)!\n",
        "</a>\n"
      ],
      "metadata": {
        "nteract": {
          "transient": {
            "deleting": false
          }
        },
        "id": "kYKwxHjn4rrH"
      }
    },
    {
      "cell_type": "markdown",
      "source": [
        "### Konzept\n",
        "\n",
        "<a style=\"color:gray\">\n",
        "Beschreiben Sie das finale Konzept und begründen Sie die Designentscheidungen!<br>\n",
        "Welche Visualisierungstechniken haben Sie eingesetzt und warum?<br>\n",
        "Welche Interaktionstechniken werden eingesetzt und warum?<br>\n",
        "</a>\n",
        "<span style=\"color:red\">_TODO until 04.06.2022 12:00_</style>"
      ],
      "metadata": {
        "nteract": {
          "transient": {
            "deleting": false
          }
        },
        "id": "r3duoj8M4rrH"
      }
    },
    {
      "cell_type": "markdown",
      "source": [
        "3\\. Prototyp\n",
        "--------\n",
        "\n"
      ],
      "metadata": {
        "nteract": {
          "transient": {
            "deleting": false
          }
        },
        "id": "6IYHSdix4rrI"
      }
    },
    {
      "cell_type": "markdown",
      "source": [
        "### Umsetzung\n",
        "\n",
        "<a style=\"color:gray\">\n",
        "Kurze Beschreibung des Prototypen und der Sichten (sofern möglich, den Link zum finalen Prototypen angeben oder Screenshot)<br>\n",
        "Mit welchen Tool wurde der Prototyp umgesetzt?<br>\n",
        "Inwieweit mussten Sie die Konzepte bei der Implementierung anpassen?<br>\n",
        "</a>\n"
      ],
      "metadata": {
        "nteract": {
          "transient": {
            "deleting": false
          }
        },
        "id": "FN8lkf0J4rrI"
      }
    },
    {
      "cell_type": "markdown",
      "source": [
        "### Diskussion & Insights\n",
        "\n",
        "<a style=\"color:gray\">\n",
        "Diskutieren Sie die Ergebnisse und Erkenntnisse! Nutzen Sie wenn möglich Screenshots um die Findings zu dokumentieren!<br>\n",
        "Konnten Sie die eingangs gestellten Fragen eindeutig beantworten? Wenn nein, warum?<br>\n",
        "</a>\n",
        "<span style=\"color:red\">_TODO until 03.07.2022 23:55_</style>"
      ],
      "metadata": {
        "nteract": {
          "transient": {
            "deleting": false
          }
        },
        "id": "_MBLf_s14rrI"
      }
    },
    {
      "cell_type": "markdown",
      "source": [
        "4\\. Imports and Code\n",
        "----------------\n",
        "<a style=\"color:gray\">\n",
        "_Sollten Sie zusätzliche Imports oder zusätzlichen Quellcode benötigen, der die Lesbarkeit der Dokumentation erschwert, dann können Sie diese hier unten einfügen_<br>\n",
        "</a>\n"
      ],
      "metadata": {
        "nteract": {
          "transient": {
            "deleting": false
          }
        },
        "id": "9NjPWv-h4rrJ"
      }
    },
    {
      "cell_type": "markdown",
      "source": [
        "Credit: [Projektdokumentation Informationsvisualisierung (17\\_VIS2I) by Mandy Keck](https://observablehq.com/@mandykeck/projektdokumentation_vis22)"
      ],
      "metadata": {
        "nteract": {
          "transient": {
            "deleting": false
          }
        },
        "id": "BMPtq8eq4rrK"
      }
    }
  ],
  "metadata": {
    "kernelspec": {
      "name": "python3",
      "display_name": "Python 3"
    },
    "language_info": {
      "name": "python"
    },
    "kernel_info": {
      "name": "python38-azureml"
    },
    "microsoft": {
      "host": {
        "AzureML": {
          "notebookHasBeenCompleted": true
        }
      }
    },
    "nteract": {
      "version": "nteract-front-end@1.0.0"
    },
    "colab": {
      "name": "VIS.ipynb",
      "provenance": []
    },
    "widgets": {
      "application/vnd.jupyter.widget-state+json": {
        "8c782d5e2af3440d9a2c051a1a34b07d": {
          "model_module": "@jupyter-widgets/controls",
          "model_name": "VBoxModel",
          "model_module_version": "1.5.0",
          "state": {
            "_dom_classes": [
              "widget-interact"
            ],
            "_model_module": "@jupyter-widgets/controls",
            "_model_module_version": "1.5.0",
            "_model_name": "VBoxModel",
            "_view_count": null,
            "_view_module": "@jupyter-widgets/controls",
            "_view_module_version": "1.5.0",
            "_view_name": "VBoxView",
            "box_style": "",
            "children": [
              "IPY_MODEL_3b7df5d482ff4e59bbdbbf00d65885dc",
              "IPY_MODEL_cc3ee8553847469d9640df44c30b99b6",
              "IPY_MODEL_6d3dff722eaa474fa807581d0f1e4762"
            ],
            "layout": "IPY_MODEL_9e267e89a14643c1a0a7390ab3b682e7"
          }
        },
        "3b7df5d482ff4e59bbdbbf00d65885dc": {
          "model_module": "@jupyter-widgets/controls",
          "model_name": "SelectMultipleModel",
          "model_module_version": "1.5.0",
          "state": {
            "_dom_classes": [],
            "_model_module": "@jupyter-widgets/controls",
            "_model_module_version": "1.5.0",
            "_model_name": "SelectMultipleModel",
            "_options_labels": [
              "danceability",
              "energy",
              "key",
              "loudness",
              "is_major",
              "speechiness",
              "acousticness",
              "instrumentalness",
              "liveness",
              "valence",
              "tempo",
              "duration_ms",
              "tact/4",
              "chorus_hit",
              "sections",
              "is_hit"
            ],
            "_view_count": null,
            "_view_module": "@jupyter-widgets/controls",
            "_view_module_version": "1.5.0",
            "_view_name": "SelectMultipleView",
            "description": "Item",
            "description_tooltip": null,
            "disabled": false,
            "index": [
              0,
              1,
              2,
              3,
              4,
              5,
              6,
              7,
              8,
              9,
              10,
              11,
              12,
              13,
              14,
              15
            ],
            "layout": "IPY_MODEL_ed88007ade0d4e0f9153785a7cb2eac7",
            "rows": 16,
            "style": "IPY_MODEL_1dab8244b5ab4e4baa26e9f375a0a0af"
          }
        },
        "cc3ee8553847469d9640df44c30b99b6": {
          "model_module": "@jupyter-widgets/controls",
          "model_name": "SelectMultipleModel",
          "model_module_version": "1.5.0",
          "state": {
            "_dom_classes": [],
            "_model_module": "@jupyter-widgets/controls",
            "_model_module_version": "1.5.0",
            "_model_name": "SelectMultipleModel",
            "_options_labels": [
              "1960",
              "1970",
              "1980",
              "1990",
              "2000",
              "2010"
            ],
            "_view_count": null,
            "_view_module": "@jupyter-widgets/controls",
            "_view_module_version": "1.5.0",
            "_view_name": "SelectMultipleView",
            "description": "Decade",
            "description_tooltip": null,
            "disabled": false,
            "index": [
              0,
              1,
              2,
              3,
              4,
              5
            ],
            "layout": "IPY_MODEL_1994c8f6183b4970b079f63e95840700",
            "rows": 6,
            "style": "IPY_MODEL_e3723dee6a754610b21b4926a49750ff"
          }
        },
        "6d3dff722eaa474fa807581d0f1e4762": {
          "model_module": "@jupyter-widgets/output",
          "model_name": "OutputModel",
          "model_module_version": "1.0.0",
          "state": {
            "_dom_classes": [],
            "_model_module": "@jupyter-widgets/output",
            "_model_module_version": "1.0.0",
            "_model_name": "OutputModel",
            "_view_count": null,
            "_view_module": "@jupyter-widgets/output",
            "_view_module_version": "1.0.0",
            "_view_name": "OutputView",
            "layout": "IPY_MODEL_5d3d19e9c88147cfad0d8abf09942253",
            "msg_id": "",
            "outputs": [
              {
                "output_type": "stream",
                "name": "stdout",
                "text": [
                  "Year(s): (1960, 1970, 1980, 1990, 2000, 2010)\n"
                ]
              },
              {
                "output_type": "display_data",
                "data": {
                  "text/plain": "<Figure size 576x432 with 2 Axes>",
                  "image/png": "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\n"
                },
                "metadata": {
                  "needs_background": "light"
                }
              }
            ]
          }
        },
        "9e267e89a14643c1a0a7390ab3b682e7": {
          "model_module": "@jupyter-widgets/base",
          "model_name": "LayoutModel",
          "model_module_version": "1.2.0",
          "state": {
            "_model_module": "@jupyter-widgets/base",
            "_model_module_version": "1.2.0",
            "_model_name": "LayoutModel",
            "_view_count": null,
            "_view_module": "@jupyter-widgets/base",
            "_view_module_version": "1.2.0",
            "_view_name": "LayoutView",
            "align_content": null,
            "align_items": null,
            "align_self": null,
            "border": null,
            "bottom": null,
            "display": null,
            "flex": null,
            "flex_flow": null,
            "grid_area": null,
            "grid_auto_columns": null,
            "grid_auto_flow": null,
            "grid_auto_rows": null,
            "grid_column": null,
            "grid_gap": null,
            "grid_row": null,
            "grid_template_areas": null,
            "grid_template_columns": null,
            "grid_template_rows": null,
            "height": null,
            "justify_content": null,
            "justify_items": null,
            "left": null,
            "margin": null,
            "max_height": null,
            "max_width": null,
            "min_height": null,
            "min_width": null,
            "object_fit": null,
            "object_position": null,
            "order": null,
            "overflow": null,
            "overflow_x": null,
            "overflow_y": null,
            "padding": null,
            "right": null,
            "top": null,
            "visibility": null,
            "width": null
          }
        },
        "ed88007ade0d4e0f9153785a7cb2eac7": {
          "model_module": "@jupyter-widgets/base",
          "model_name": "LayoutModel",
          "model_module_version": "1.2.0",
          "state": {
            "_model_module": "@jupyter-widgets/base",
            "_model_module_version": "1.2.0",
            "_model_name": "LayoutModel",
            "_view_count": null,
            "_view_module": "@jupyter-widgets/base",
            "_view_module_version": "1.2.0",
            "_view_name": "LayoutView",
            "align_content": null,
            "align_items": null,
            "align_self": null,
            "border": null,
            "bottom": null,
            "display": "flex",
            "flex": null,
            "flex_flow": null,
            "grid_area": null,
            "grid_auto_columns": null,
            "grid_auto_flow": null,
            "grid_auto_rows": null,
            "grid_column": null,
            "grid_gap": null,
            "grid_row": null,
            "grid_template_areas": null,
            "grid_template_columns": null,
            "grid_template_rows": null,
            "height": null,
            "justify_content": null,
            "justify_items": null,
            "left": null,
            "margin": null,
            "max_height": null,
            "max_width": null,
            "min_height": null,
            "min_width": null,
            "object_fit": null,
            "object_position": null,
            "order": null,
            "overflow": null,
            "overflow_x": null,
            "overflow_y": null,
            "padding": null,
            "right": null,
            "top": null,
            "visibility": null,
            "width": null
          }
        },
        "1dab8244b5ab4e4baa26e9f375a0a0af": {
          "model_module": "@jupyter-widgets/controls",
          "model_name": "DescriptionStyleModel",
          "model_module_version": "1.5.0",
          "state": {
            "_model_module": "@jupyter-widgets/controls",
            "_model_module_version": "1.5.0",
            "_model_name": "DescriptionStyleModel",
            "_view_count": null,
            "_view_module": "@jupyter-widgets/base",
            "_view_module_version": "1.2.0",
            "_view_name": "StyleView",
            "description_width": ""
          }
        },
        "1994c8f6183b4970b079f63e95840700": {
          "model_module": "@jupyter-widgets/base",
          "model_name": "LayoutModel",
          "model_module_version": "1.2.0",
          "state": {
            "_model_module": "@jupyter-widgets/base",
            "_model_module_version": "1.2.0",
            "_model_name": "LayoutModel",
            "_view_count": null,
            "_view_module": "@jupyter-widgets/base",
            "_view_module_version": "1.2.0",
            "_view_name": "LayoutView",
            "align_content": null,
            "align_items": null,
            "align_self": null,
            "border": null,
            "bottom": null,
            "display": "flex",
            "flex": null,
            "flex_flow": null,
            "grid_area": null,
            "grid_auto_columns": null,
            "grid_auto_flow": null,
            "grid_auto_rows": null,
            "grid_column": null,
            "grid_gap": null,
            "grid_row": null,
            "grid_template_areas": null,
            "grid_template_columns": null,
            "grid_template_rows": null,
            "height": null,
            "justify_content": null,
            "justify_items": null,
            "left": null,
            "margin": null,
            "max_height": null,
            "max_width": null,
            "min_height": null,
            "min_width": null,
            "object_fit": null,
            "object_position": null,
            "order": null,
            "overflow": null,
            "overflow_x": null,
            "overflow_y": null,
            "padding": null,
            "right": null,
            "top": null,
            "visibility": null,
            "width": null
          }
        },
        "e3723dee6a754610b21b4926a49750ff": {
          "model_module": "@jupyter-widgets/controls",
          "model_name": "DescriptionStyleModel",
          "model_module_version": "1.5.0",
          "state": {
            "_model_module": "@jupyter-widgets/controls",
            "_model_module_version": "1.5.0",
            "_model_name": "DescriptionStyleModel",
            "_view_count": null,
            "_view_module": "@jupyter-widgets/base",
            "_view_module_version": "1.2.0",
            "_view_name": "StyleView",
            "description_width": ""
          }
        },
        "5d3d19e9c88147cfad0d8abf09942253": {
          "model_module": "@jupyter-widgets/base",
          "model_name": "LayoutModel",
          "model_module_version": "1.2.0",
          "state": {
            "_model_module": "@jupyter-widgets/base",
            "_model_module_version": "1.2.0",
            "_model_name": "LayoutModel",
            "_view_count": null,
            "_view_module": "@jupyter-widgets/base",
            "_view_module_version": "1.2.0",
            "_view_name": "LayoutView",
            "align_content": null,
            "align_items": null,
            "align_self": null,
            "border": null,
            "bottom": null,
            "display": null,
            "flex": null,
            "flex_flow": null,
            "grid_area": null,
            "grid_auto_columns": null,
            "grid_auto_flow": null,
            "grid_auto_rows": null,
            "grid_column": null,
            "grid_gap": null,
            "grid_row": null,
            "grid_template_areas": null,
            "grid_template_columns": null,
            "grid_template_rows": null,
            "height": null,
            "justify_content": null,
            "justify_items": null,
            "left": null,
            "margin": null,
            "max_height": null,
            "max_width": null,
            "min_height": null,
            "min_width": null,
            "object_fit": null,
            "object_position": null,
            "order": null,
            "overflow": null,
            "overflow_x": null,
            "overflow_y": null,
            "padding": null,
            "right": null,
            "top": null,
            "visibility": null,
            "width": null
          }
        }
      }
    }
  },
  "nbformat": 4,
  "nbformat_minor": 0
}