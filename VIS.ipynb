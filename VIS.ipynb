{
  "cells": [
    {
      "cell_type": "markdown",
      "source": [
        "<iframe width=\"100%\" height=\"500\" frameborder=\"0\"\n",
        "  src=\"https://observablehq.com/embed/@mandykeck/projektdokumentation_vis22?cell=*\"></iframe>"
      ],
      "metadata": {
        "nteract": {
          "transient": {
            "deleting": false
          }
        },
        "id": "Ys7FNra44rqz"
      }
    },
    {
      "cell_type": "markdown",
      "source": [
        "Projektdokumentation Informationsvisualisierung (17\\_VIS2I)\n",
        "===========================================================\n",
        "\n",
        "_Angabe TEAM 9 \"HitOderNit?\"_"
      ],
      "metadata": {
        "nteract": {
          "transient": {
            "deleting": false
          }
        },
        "id": "Sj-gljg74rq1"
      }
    },
    {
      "cell_type": "markdown",
      "source": [
        "1\\. Datenanalyse und Exploration\n",
        "--------------------------------"
      ],
      "metadata": {
        "nteract": {
          "transient": {
            "deleting": false
          }
        },
        "id": "qOaRDG4-4rq4"
      }
    },
    {
      "cell_type": "markdown",
      "source": [
        "### Data Abstraction\n",
        "<a style=\"color:gray\" id=info>\n",
        "Kurze Beschreibung des Datensatzes (Inhalt) und Herkunft der Daten (z.B. Link)<br>\n",
        "Binden Sie den Datensatz in das Notebook ein und zeigen diesen in Form einer Übersicht!<br>\n",
        "Wie groß ist der Datensatz in Bezug auf Zeilen (Anzahl der Elemente) und Spalten (uni-, bi-, multivariat)?<br>\n",
        "Welchen Attributtyp haben die einzelnen Spalten (nominal, ordinal, quantitativ)?<br>\n",
        "Welche Datenstruktur(en) stecken in dem Datensatz (z.B. hierarchisch, geografisch, temporal)<br>\n",
        "</section>"
      ],
      "metadata": {
        "nteract": {
          "transient": {
            "deleting": false
          }
        },
        "id": "I9O6rpcH4rq5"
      }
    },
    {
      "cell_type": "markdown",
      "source": [
        "\n",
        "Features von Tracks von Spotify Web-API (Lieder von 1960 – 2019) <br>\n",
        "<b>Attribute & Attributtyp:</b>\t\n",
        "1. <b>Qualitativ<br>\n",
        "\tNominale Daten: </b>\n",
        "\t- track: The Name of the track.\n",
        "\t- artist: The Name of the Artist.\n",
        "\t- uri: The resource identifier for the track.<br><b>\n",
        "\tBinary Daten: </b>\n",
        "\t- target: The target variable for the track. It can be either '0' or '1'. '1' implies that this song has featured in the weekly list (Issued by Billboards) of Hot-100 tracks in that decade at least once and is therefore a 'hit'. '0' Implies that the track is a 'flop'.\n",
        "\t- mode: Mode indicates the modality (major or minor) of a track, the type of scale from which its melodic content is derived. Major is represented by 1 and minor is 0.\n",
        "\t<br>\n",
        "\t<br>\n",
        "\n",
        "\t\n",
        "2. <b>Quantitative:</b>\n",
        "\t- danceability: . A value of 0.0 is least danceable and 1.0 is most danceable. \n",
        "\t- energy: Energy is a measure from 0.0 to 1.0 and represents a perceptual measure of intensity and activity.\n",
        "\t- key: The estimated overall key of the track. Integers map to pitches using standard Pitch Class notation. E.g. 0 = C, 1 = C?/D?, 2 = D, and so on. If no key was detected, the value is -1.\n",
        "\t- loudness: The overall loudness of a track in decibels (dB). Loudness values are averaged across the entire track and are useful for comparing relative loudness of tracks. Loudness is the quality of a sound that is the primary psychological correlate of physical strength (amplitude). Values typical range between -60 and 0 db. \n",
        "\t- speechiness: Speechiness detects the presence of spoken words in a track. The more exclusively speech-like the recording (e.g. talk show, audio book, poetry), the closer to 1.0 the attribute value. \n",
        "\t- acousticness: A confidence measure from 0.0 to 1.0 of whether the track is acoustic. 1.0 represents high confidence the track is acoustic. The distribution of values for this feature look like this:\n",
        "\t- instrumentalness: Predicts whether a track contains no vocals. The closer the instrumentalness value is to 1.0, the greater likelihood the track contains no vocal content. \n",
        "\t- liveness: Detects the presence of an audience in the recording. Higher liveness values represent an increased probability that the track was performed live. A value above 0.8 provides strong likelihood that the track is live.\n",
        "\t- valence: A measure from 0.0 to 1.0 describing the musical positiveness conveyed by a track. Tracks with high valence sound more positive (e.g. happy, cheerful, euphoric), while tracks with low valence sound more negative (e.g. sad, depressed, angry).\n",
        "\t- tempo: The overall estimated tempo of a track in beats per minute (BPM). In musical terminology, tempo is the speed or pace of a given piece and derives directly from the average beat duration. \n",
        "\t- duration_ms:  The duration of the track in milliseconds.\n",
        "\t- time_signature: An estimated overall time signature of a track. The time signature (meter) is a notational convention to specify how many beats are in each bar (or measure).\n",
        "\t- chorus_hit: This the the author's best estimate of when the chorus would start for the track. Its the timestamp of the start of the third section of the track. This feature was extracted from the data received by the API call for Audio Analysis of that particular track.\n",
        "\t- sections: The number of sections the particular track has. This feature was extracted from the data received by the API call for Audio Analysis of that particular track.\n",
        "<br>\n",
        "<br>\n",
        "Source: https://www.kaggle.com/datasets/theoverman/the-spotify-hit-predictor-dataset <br><br>\n",
        "Datensatz ist <b>multivariant</b><br><br>\n",
        "<b>TO DO: Datenstruktur - kennt sich da wer aus?</b>\n",
        "\n",
        "\n",
        "\n"
      ],
      "metadata": {
        "nteract": {
          "transient": {
            "deleting": false
          }
        },
        "id": "xdLW7GTb4rq6"
      }
    },
    {
      "cell_type": "markdown",
      "source": [
        "#### Datensatz Descriptive Statistik"
      ],
      "metadata": {
        "nteract": {
          "transient": {
            "deleting": false
          }
        },
        "id": "wVYvKE4z4rq8"
      }
    },
    {
      "cell_type": "code",
      "source": [
        "import numpy as np\n",
        "import pandas as pd\n",
        "import matplotlib.pyplot as plt\n",
        "import seaborn as sb\n",
        "\n",
        "url = 'https://github.com/aexsi/HCC_VIS_TEAM9/raw/main/Dataset_Total.csv'\n",
        "df = pd.read_csv(url)\n",
        "\n",
        "\n",
        "#some columns are named ubiquitous\n",
        "df = df.rename(columns={\"target\": \"is_hit\", \"mode\": \"is_major\", \"time_signature\": \"tact/4\"})\n",
        "\n",
        "desc = df.describe(include='all')\n",
        "count = desc.iloc[1,1]\n",
        "print( 'Total dataset rows: ', count )\n",
        "print( 'Total dataset columns: ', len(desc.columns) )#, '(', desc.columns, ')' )\n",
        "desc.iloc[4:,4:]\n",
        "\n"
      ],
      "outputs": [
        {
          "output_type": "stream",
          "name": "stdout",
          "text": [
            "Total dataset rows:  35860\n",
            "Total dataset columns:  20\n"
          ]
        },
        {
          "output_type": "execute_result",
          "data": {
            "text/plain": [
              "      danceability    energy        key   loudness  is_major  speechiness  \\\n",
              "mean      0.539695  0.579545   5.213594 -10.221525  0.693354     0.072960   \n",
              "std       0.177821  0.252628   3.534977   5.311626  0.461107     0.086112   \n",
              "min       0.000000  0.000251   0.000000 -49.253000  0.000000     0.000000   \n",
              "25%       0.420000  0.396000   2.000000 -12.816000  0.000000     0.033700   \n",
              "50%       0.552000  0.601000   5.000000  -9.257000  1.000000     0.043400   \n",
              "75%       0.669000  0.787000   8.000000  -6.374250  1.000000     0.069800   \n",
              "max       0.988000  1.000000  11.000000   3.744000  1.000000     0.960000   \n",
              "\n",
              "      acousticness  instrumentalness  liveness   valence       tempo  \\\n",
              "mean      0.364197          0.154416  0.201535  0.542440  119.338249   \n",
              "std       0.338913          0.303530  0.172959  0.267329   29.098845   \n",
              "min       0.000000          0.000000  0.013000  0.000000    0.000000   \n",
              "25%       0.039400          0.000000  0.094000  0.330000   97.397000   \n",
              "50%       0.258000          0.000120  0.132000  0.558000  117.565000   \n",
              "75%       0.676000          0.061250  0.261000  0.768000  136.494000   \n",
              "max       0.996000          1.000000  0.999000  0.996000  241.423000   \n",
              "\n",
              "       duration_ms    tact/4  chorus_hit    sections    is_hit  \n",
              "mean  2.348776e+05  3.893689   40.106041   10.475673  0.500000  \n",
              "std   1.189674e+05  0.423073   19.005515    4.871850  0.500006  \n",
              "min   1.516800e+04  0.000000    0.000000    0.000000  0.000000  \n",
              "25%   1.729278e+05  4.000000   27.599792    8.000000  0.000000  \n",
              "50%   2.179070e+05  4.000000   35.850795   10.000000  0.500000  \n",
              "75%   2.667730e+05  4.000000   47.625615   12.000000  1.000000  \n",
              "max   4.170227e+06  5.000000  433.182000  169.000000  1.000000  "
            ],
            "text/html": [
              "\n",
              "  <div id=\"df-a7f4b279-9b60-4d67-bc0c-99bbbf23a7d5\">\n",
              "    <div class=\"colab-df-container\">\n",
              "      <div>\n",
              "<style scoped>\n",
              "    .dataframe tbody tr th:only-of-type {\n",
              "        vertical-align: middle;\n",
              "    }\n",
              "\n",
              "    .dataframe tbody tr th {\n",
              "        vertical-align: top;\n",
              "    }\n",
              "\n",
              "    .dataframe thead th {\n",
              "        text-align: right;\n",
              "    }\n",
              "</style>\n",
              "<table border=\"1\" class=\"dataframe\">\n",
              "  <thead>\n",
              "    <tr style=\"text-align: right;\">\n",
              "      <th></th>\n",
              "      <th>danceability</th>\n",
              "      <th>energy</th>\n",
              "      <th>key</th>\n",
              "      <th>loudness</th>\n",
              "      <th>is_major</th>\n",
              "      <th>speechiness</th>\n",
              "      <th>acousticness</th>\n",
              "      <th>instrumentalness</th>\n",
              "      <th>liveness</th>\n",
              "      <th>valence</th>\n",
              "      <th>tempo</th>\n",
              "      <th>duration_ms</th>\n",
              "      <th>tact/4</th>\n",
              "      <th>chorus_hit</th>\n",
              "      <th>sections</th>\n",
              "      <th>is_hit</th>\n",
              "    </tr>\n",
              "  </thead>\n",
              "  <tbody>\n",
              "    <tr>\n",
              "      <th>mean</th>\n",
              "      <td>0.539695</td>\n",
              "      <td>0.579545</td>\n",
              "      <td>5.213594</td>\n",
              "      <td>-10.221525</td>\n",
              "      <td>0.693354</td>\n",
              "      <td>0.072960</td>\n",
              "      <td>0.364197</td>\n",
              "      <td>0.154416</td>\n",
              "      <td>0.201535</td>\n",
              "      <td>0.542440</td>\n",
              "      <td>119.338249</td>\n",
              "      <td>2.348776e+05</td>\n",
              "      <td>3.893689</td>\n",
              "      <td>40.106041</td>\n",
              "      <td>10.475673</td>\n",
              "      <td>0.500000</td>\n",
              "    </tr>\n",
              "    <tr>\n",
              "      <th>std</th>\n",
              "      <td>0.177821</td>\n",
              "      <td>0.252628</td>\n",
              "      <td>3.534977</td>\n",
              "      <td>5.311626</td>\n",
              "      <td>0.461107</td>\n",
              "      <td>0.086112</td>\n",
              "      <td>0.338913</td>\n",
              "      <td>0.303530</td>\n",
              "      <td>0.172959</td>\n",
              "      <td>0.267329</td>\n",
              "      <td>29.098845</td>\n",
              "      <td>1.189674e+05</td>\n",
              "      <td>0.423073</td>\n",
              "      <td>19.005515</td>\n",
              "      <td>4.871850</td>\n",
              "      <td>0.500006</td>\n",
              "    </tr>\n",
              "    <tr>\n",
              "      <th>min</th>\n",
              "      <td>0.000000</td>\n",
              "      <td>0.000251</td>\n",
              "      <td>0.000000</td>\n",
              "      <td>-49.253000</td>\n",
              "      <td>0.000000</td>\n",
              "      <td>0.000000</td>\n",
              "      <td>0.000000</td>\n",
              "      <td>0.000000</td>\n",
              "      <td>0.013000</td>\n",
              "      <td>0.000000</td>\n",
              "      <td>0.000000</td>\n",
              "      <td>1.516800e+04</td>\n",
              "      <td>0.000000</td>\n",
              "      <td>0.000000</td>\n",
              "      <td>0.000000</td>\n",
              "      <td>0.000000</td>\n",
              "    </tr>\n",
              "    <tr>\n",
              "      <th>25%</th>\n",
              "      <td>0.420000</td>\n",
              "      <td>0.396000</td>\n",
              "      <td>2.000000</td>\n",
              "      <td>-12.816000</td>\n",
              "      <td>0.000000</td>\n",
              "      <td>0.033700</td>\n",
              "      <td>0.039400</td>\n",
              "      <td>0.000000</td>\n",
              "      <td>0.094000</td>\n",
              "      <td>0.330000</td>\n",
              "      <td>97.397000</td>\n",
              "      <td>1.729278e+05</td>\n",
              "      <td>4.000000</td>\n",
              "      <td>27.599792</td>\n",
              "      <td>8.000000</td>\n",
              "      <td>0.000000</td>\n",
              "    </tr>\n",
              "    <tr>\n",
              "      <th>50%</th>\n",
              "      <td>0.552000</td>\n",
              "      <td>0.601000</td>\n",
              "      <td>5.000000</td>\n",
              "      <td>-9.257000</td>\n",
              "      <td>1.000000</td>\n",
              "      <td>0.043400</td>\n",
              "      <td>0.258000</td>\n",
              "      <td>0.000120</td>\n",
              "      <td>0.132000</td>\n",
              "      <td>0.558000</td>\n",
              "      <td>117.565000</td>\n",
              "      <td>2.179070e+05</td>\n",
              "      <td>4.000000</td>\n",
              "      <td>35.850795</td>\n",
              "      <td>10.000000</td>\n",
              "      <td>0.500000</td>\n",
              "    </tr>\n",
              "    <tr>\n",
              "      <th>75%</th>\n",
              "      <td>0.669000</td>\n",
              "      <td>0.787000</td>\n",
              "      <td>8.000000</td>\n",
              "      <td>-6.374250</td>\n",
              "      <td>1.000000</td>\n",
              "      <td>0.069800</td>\n",
              "      <td>0.676000</td>\n",
              "      <td>0.061250</td>\n",
              "      <td>0.261000</td>\n",
              "      <td>0.768000</td>\n",
              "      <td>136.494000</td>\n",
              "      <td>2.667730e+05</td>\n",
              "      <td>4.000000</td>\n",
              "      <td>47.625615</td>\n",
              "      <td>12.000000</td>\n",
              "      <td>1.000000</td>\n",
              "    </tr>\n",
              "    <tr>\n",
              "      <th>max</th>\n",
              "      <td>0.988000</td>\n",
              "      <td>1.000000</td>\n",
              "      <td>11.000000</td>\n",
              "      <td>3.744000</td>\n",
              "      <td>1.000000</td>\n",
              "      <td>0.960000</td>\n",
              "      <td>0.996000</td>\n",
              "      <td>1.000000</td>\n",
              "      <td>0.999000</td>\n",
              "      <td>0.996000</td>\n",
              "      <td>241.423000</td>\n",
              "      <td>4.170227e+06</td>\n",
              "      <td>5.000000</td>\n",
              "      <td>433.182000</td>\n",
              "      <td>169.000000</td>\n",
              "      <td>1.000000</td>\n",
              "    </tr>\n",
              "  </tbody>\n",
              "</table>\n",
              "</div>\n",
              "      <button class=\"colab-df-convert\" onclick=\"convertToInteractive('df-a7f4b279-9b60-4d67-bc0c-99bbbf23a7d5')\"\n",
              "              title=\"Convert this dataframe to an interactive table.\"\n",
              "              style=\"display:none;\">\n",
              "        \n",
              "  <svg xmlns=\"http://www.w3.org/2000/svg\" height=\"24px\"viewBox=\"0 0 24 24\"\n",
              "       width=\"24px\">\n",
              "    <path d=\"M0 0h24v24H0V0z\" fill=\"none\"/>\n",
              "    <path d=\"M18.56 5.44l.94 2.06.94-2.06 2.06-.94-2.06-.94-.94-2.06-.94 2.06-2.06.94zm-11 1L8.5 8.5l.94-2.06 2.06-.94-2.06-.94L8.5 2.5l-.94 2.06-2.06.94zm10 10l.94 2.06.94-2.06 2.06-.94-2.06-.94-.94-2.06-.94 2.06-2.06.94z\"/><path d=\"M17.41 7.96l-1.37-1.37c-.4-.4-.92-.59-1.43-.59-.52 0-1.04.2-1.43.59L10.3 9.45l-7.72 7.72c-.78.78-.78 2.05 0 2.83L4 21.41c.39.39.9.59 1.41.59.51 0 1.02-.2 1.41-.59l7.78-7.78 2.81-2.81c.8-.78.8-2.07 0-2.86zM5.41 20L4 18.59l7.72-7.72 1.47 1.35L5.41 20z\"/>\n",
              "  </svg>\n",
              "      </button>\n",
              "      \n",
              "  <style>\n",
              "    .colab-df-container {\n",
              "      display:flex;\n",
              "      flex-wrap:wrap;\n",
              "      gap: 12px;\n",
              "    }\n",
              "\n",
              "    .colab-df-convert {\n",
              "      background-color: #E8F0FE;\n",
              "      border: none;\n",
              "      border-radius: 50%;\n",
              "      cursor: pointer;\n",
              "      display: none;\n",
              "      fill: #1967D2;\n",
              "      height: 32px;\n",
              "      padding: 0 0 0 0;\n",
              "      width: 32px;\n",
              "    }\n",
              "\n",
              "    .colab-df-convert:hover {\n",
              "      background-color: #E2EBFA;\n",
              "      box-shadow: 0px 1px 2px rgba(60, 64, 67, 0.3), 0px 1px 3px 1px rgba(60, 64, 67, 0.15);\n",
              "      fill: #174EA6;\n",
              "    }\n",
              "\n",
              "    [theme=dark] .colab-df-convert {\n",
              "      background-color: #3B4455;\n",
              "      fill: #D2E3FC;\n",
              "    }\n",
              "\n",
              "    [theme=dark] .colab-df-convert:hover {\n",
              "      background-color: #434B5C;\n",
              "      box-shadow: 0px 1px 3px 1px rgba(0, 0, 0, 0.15);\n",
              "      filter: drop-shadow(0px 1px 2px rgba(0, 0, 0, 0.3));\n",
              "      fill: #FFFFFF;\n",
              "    }\n",
              "  </style>\n",
              "\n",
              "      <script>\n",
              "        const buttonEl =\n",
              "          document.querySelector('#df-a7f4b279-9b60-4d67-bc0c-99bbbf23a7d5 button.colab-df-convert');\n",
              "        buttonEl.style.display =\n",
              "          google.colab.kernel.accessAllowed ? 'block' : 'none';\n",
              "\n",
              "        async function convertToInteractive(key) {\n",
              "          const element = document.querySelector('#df-a7f4b279-9b60-4d67-bc0c-99bbbf23a7d5');\n",
              "          const dataTable =\n",
              "            await google.colab.kernel.invokeFunction('convertToInteractive',\n",
              "                                                     [key], {});\n",
              "          if (!dataTable) return;\n",
              "\n",
              "          const docLinkHtml = 'Like what you see? Visit the ' +\n",
              "            '<a target=\"_blank\" href=https://colab.research.google.com/notebooks/data_table.ipynb>data table notebook</a>'\n",
              "            + ' to learn more about interactive tables.';\n",
              "          element.innerHTML = '';\n",
              "          dataTable['output_type'] = 'display_data';\n",
              "          await google.colab.output.renderOutput(dataTable, element);\n",
              "          const docLink = document.createElement('div');\n",
              "          docLink.innerHTML = docLinkHtml;\n",
              "          element.appendChild(docLink);\n",
              "        }\n",
              "      </script>\n",
              "    </div>\n",
              "  </div>\n",
              "  "
            ]
          },
          "metadata": {},
          "execution_count": 4
        }
      ],
      "execution_count": 4,
      "metadata": {
        "jupyter": {
          "source_hidden": false,
          "outputs_hidden": false
        },
        "nteract": {
          "transient": {
            "deleting": false
          }
        },
        "gather": {
          "logged": 1649537397414
        },
        "colab": {
          "base_uri": "https://localhost:8080/",
          "height": 348
        },
        "id": "Ny0089Ti4rq-",
        "outputId": "f980c7e2-6780-4e44-896b-89c9f248559c"
      }
    },
    {
      "cell_type": "code",
      "source": [
        "#Normierung\n",
        "def minmax_norm(df_input):\n",
        "    dat = df_input\n",
        "    dat = dat - dat.min()\n",
        "    dat = dat / dat.max()\n",
        "    return dat\n",
        "\n",
        "df_norm = df.iloc[:,4:]\n",
        "df_norm['key'] = minmax_norm(df['key'])\n",
        "df_norm['loudness'] = minmax_norm(df['loudness'])\n",
        "df_norm['tempo'] = minmax_norm(df['tempo'])\n",
        "df_norm['duration_ms'] = minmax_norm(df['duration_ms'])\n",
        "df_norm['tact/4'] = minmax_norm(df['tact/4'])\n",
        "df_norm['chorus_hit'] = minmax_norm(df['chorus_hit'])\n",
        "df_norm['sections'] = minmax_norm(df['sections'])"
      ],
      "outputs": [],
      "execution_count": 61,
      "metadata": {
        "jupyter": {
          "source_hidden": false,
          "outputs_hidden": false
        },
        "nteract": {
          "transient": {
            "deleting": false
          }
        },
        "gather": {
          "logged": 1649536273197
        },
        "id": "WjlRbQpG4rrA"
      }
    },
    {
      "cell_type": "markdown",
      "source": [
        "##### Distribution overview\n",
        "of normalized data ( [min..max] -> [0..1] )"
      ],
      "metadata": {
        "nteract": {
          "transient": {
            "deleting": false
          }
        },
        "id": "_-5DM2CP4rrB"
      }
    },
    {
      "cell_type": "code",
      "source": [
        "plt.figure(figsize=(20,5))\n",
        "sb.violinplot( data = df_norm.iloc[:,[0,1,2,6,9]], inner='quart' )\n",
        "plt.show()\n",
        "plt.figure(figsize=(20,5))\n",
        "sb.violinplot( data = df_norm.iloc[:,[3,8,10,4,7]], inner='quart' )\n",
        "plt.show()\n",
        "plt.figure(figsize=(20,5))\n",
        "sb.violinplot( data = df_norm.iloc[:,[5,15,11,12,14]], inner='quart' )\n",
        "plt.show()"
      ],
      "outputs": [
        {
          "output_type": "display_data",
          "data": {
            "text/plain": [
              "<Figure size 1440x360 with 1 Axes>"
            ],
            "image/png": "[encoded data removed]"
          },
          "metadata": {
            "needs_background": "light"
          }
        },
        {
          "output_type": "display_data",
          "data": {
            "text/plain": [
              "<Figure size 1440x360 with 1 Axes>"
            ],
            "image/png": "[encoded data removed]"
          },
          "metadata": {
            "needs_background": "light"
          }
        },
        {
          "output_type": "display_data",
          "data": {
            "text/plain": [
              "<Figure size 1440x360 with 1 Axes>"
            ],
            "image/png": "[encoded data removed]"
          },
          "metadata": {
            "needs_background": "light"
          }
        }
      ],
      "execution_count": 62,
      "metadata": {
        "jupyter": {
          "source_hidden": false,
          "outputs_hidden": false
        },
        "nteract": {
          "transient": {
            "deleting": false
          }
        },
        "gather": {
          "logged": 1649511908786
        },
        "colab": {
          "base_uri": "https://localhost:8080/",
          "height": 928
        },
        "id": "kNpws1214rrC",
        "outputId": "37bba650-fc8f-4d66-8174-774363f425d6"
      }
    },
    {
      "cell_type": "markdown",
      "source": [
        "The violin plots show the distribution of the values at first glance. What we can see from the data is, that _danceability_ is pretty much gaussian distributed.\n",
        "Wheras _key_ and _energy_ seem uniform distributed - with _energy_ shifted slightly to one side. \n",
        "There are some items heavyly shifted to one side (_sections_, _time_signature_, _duration_, _instrumentalness_, _speechness_ and - not as pregnant - _liveness_).\n",
        "The Values of _acousticness_ reensemble a bathtube curve. Which means the values are shifted to the ends.\n",
        "A speciality are _target_ and _mode_ since these only allow values of 0 and 1 - they are binary.\n",
        "<br>\n",
        "There seems to be a narrow focus on _tact/4_ of 4 (4/4 tact). Though a few songs also have a 3/4 tact. Songs with different tact seem to be very rare. "
      ],
      "metadata": {
        "nteract": {
          "transient": {
            "deleting": false
          }
        },
        "id": "9-ueV6tC4rrC"
      }
    },
    {
      "cell_type": "markdown",
      "source": [
        "##### Correlation Matrix"
      ],
      "metadata": {
        "nteract": {
          "transient": {
            "deleting": false
          }
        },
        "id": "QVRBRSMa4rrD"
      }
    },
    {
      "cell_type": "code",
      "source": [
        "sb.heatmap( df.corr(), center=0 )\n"
      ],
      "outputs": [
        {
          "output_type": "execute_result",
          "data": {
            "text/plain": [
              "<matplotlib.axes._subplots.AxesSubplot at 0x7f08234782d0>"
            ]
          },
          "metadata": {},
          "execution_count": 53
        },
        {
          "output_type": "display_data",
          "data": {
            "text/plain": [
              "<Figure size 432x288 with 2 Axes>"
            ],
            "image/png": "[encoded data removed]"
          },
          "metadata": {
            "needs_background": "light"
          }
        }
      ],
      "execution_count": 53,
      "metadata": {
        "jupyter": {
          "source_hidden": false,
          "outputs_hidden": false
        },
        "nteract": {
          "transient": {
            "deleting": false
          }
        },
        "gather": {
          "logged": 1649538014520
        },
        "colab": {
          "base_uri": "https://localhost:8080/",
          "height": 363
        },
        "id": "Ob12sJzx4rrE",
        "outputId": "5868ca1d-6980-4de0-e14c-8ccde149f5a3"
      }
    },
    {
      "cell_type": "markdown",
      "source": [
        "The correlation matrix shows higher correlated items with lighter color, yellowish color with positive correlation, blueish colors mean negative correlation. Black items are not correlated. \n",
        "<br>\n",
        "So, if a song has high _acousicness_ it is less likely to have high _engergy_. Whereas songs with high _valence_ seem to also have more _danceability_. Also _duration_ and _sections_ are correlated. A long song also has more sections. The same is true for _loudness_ and _energy_: louder songs seem to have more energy. Whereas _acoustic_ songs are associated with low _energy_.\n",
        "<br>\n",
        "_chorus hit_ (first time when chorus is heard) doesn't correlate with any of the other items. Also the number of _sections_ is not much correlated with other items (exept for song _duration_).\n",
        "<br>\n",
        "Instrumental songs seem to tend to be slightly longer than average."
      ],
      "metadata": {
        "nteract": {
          "transient": {
            "deleting": false
          }
        },
        "id": "zysnEe3_4rrF"
      }
    },
    {
      "cell_type": "markdown",
      "source": [
        "### Task Abstraction\n",
        "<a style=\"color:gray\">\n",
        "Welche Fragen können mit dem gewählten Datensatz untersucht werden?<br>\n",
        "Welche abstrakten Aufgaben stecken in den Fragen (z.B. Finden von Ausreißern, Vergleich von mehreren Werten)?<br>\n",
        "Inwiefern ist es notwendig den Datensatz für die Beantwortung der Fragen anzupassen (z.B. Verknüpfungen, Filterung, Aggregation, Änderung des Detailgrads)? Bei großen Änderungen bitte den angepassten Datensatz in der Dokumentation einbinden/anzeigen.<br>\n",
        "</a>"
      ],
      "metadata": {
        "nteract": {
          "transient": {
            "deleting": false
          }
        },
        "id": "Ag_iNDHQ4rrF"
      }
    },
    {
      "cell_type": "markdown",
      "source": [
        "<b>Mögliche Fragestellungen:</b><br>\n",
        "- Zeigen ob Rhythmus und Tanzbarkeit zusammenhängen \n",
        "    <br>Klickbar machen für den User um Live zu schauen ob 2 Eigenschaften in Zusammenhang stehen\n",
        "- Veränderung über die Jahre zeigen: \n",
        "   <br> Ist die Tanzbarkeit über die Jahre höher / niedriger geworden?\n",
        "    <br>Gibt es pro Jahrzent weniger / mehr Hits? \n",
        "- Ähnliche Eigenschaften von Flop und Hits zeigen\n",
        "<br> Man kann klicken und entscheiden ob man Flops oder Hits sehen will\n",
        " -Klickbare Kategorien machen \n",
        "<br> Zeige alle tanzbaren hits /flops \n",
        "<br>Zeige alle Akustischen Hits .. <br><br>\n",
        "\n",
        "<b>Abstrakte Aufgaben</b><br>\n",
        "- Korrelation, Boxplot, finden von Ausreißern, T-test, Regression\n",
        "<br>\n",
        "<br>\n",
        "\n",
        "<b>Anpassung vom dem Datensatzes:</b><br>\n",
        "- Filterung, Agreggation\n"
      ],
      "metadata": {
        "nteract": {
          "transient": {
            "deleting": false
          }
        },
        "id": "ayEG1P4E4rrF"
      }
    },
    {
      "cell_type": "markdown",
      "source": [
        "### Visuelle Exploration des Datensatzes\n",
        "\n",
        "<a style=\"color:gray\">\n",
        "Explorieren Sie die Eigenschaften des Datensatzes mit mindestens zwei Visualisierungen pro Teammitglied! (z.B. Verteilungen oder Korrelationen untersuchen)<br>\n",
        "Was haben Sie über die Eigenschaften ihres Datensatzes erfahren?<br>\n",
        "<a>\n",
        "<span style=\"color:red\">_TODO until 30.04.2022 12:00_</style>\n"
      ],
      "metadata": {
        "nteract": {
          "transient": {
            "deleting": false
          }
        },
        "id": "dlho9jlZ4rrG"
      }
    },
    {
      "cell_type": "code",
      "source": [
        "#Alex:\n",
        "#Interactive Correlation Matrix\n",
        "from IPython.display import display \n",
        "import ipywidgets as widgets\n",
        "from ipywidgets import Layout\n",
        "import numpy as np\n",
        "import pandas as pd\n",
        "import matplotlib.pyplot as plt\n",
        "import seaborn as sb\n",
        "\n",
        "dfc = df.drop(columns=['uri','track','artist'])\n",
        "\n",
        "\n",
        "district = widgets.SelectMultiple(\n",
        "    options = dfc.columns.tolist()[1:],\n",
        "    rows = len(dfc.columns.tolist()[1:]),\n",
        "    value = dfc.columns.tolist()[1:],\n",
        "    description='Item',\n",
        "    disabled=False,\n",
        "    layout = Layout( display='flex')\n",
        ")\n",
        "\n",
        "yearitems = widgets.SelectMultiple(\n",
        "    options = dfc.decade.unique().tolist(),\n",
        "    rows = len(dfc.decade.unique().tolist()),\n",
        "    value = dfc.decade.unique().tolist(),\n",
        "    description='Decade',\n",
        "    disabled=False,\n",
        "    layout = Layout( display='flex')\n",
        ")\n",
        "\n",
        "def update(select, years):\n",
        "    #Correlation Matrix\n",
        "    pt = plt.figure(figsize=(8,6))\n",
        "    \n",
        "    if len(select) > 1:\n",
        "        items = list(select)\n",
        "    else:\n",
        "        print(\"select more items\")\n",
        "        items = list(district.options)\n",
        "\n",
        "    output = widgets.Output()\n",
        "\n",
        "    \n",
        "    dfe = dfc\n",
        "    dfe = dfe[dfe.decade.isin(years)]\n",
        "    cr = dfe[items].corr()\n",
        "    mask = np.triu(np.ones_like(cr, dtype=bool))\n",
        "    cr = dfe[items].corr().mask(mask)\n",
        "    cr = cr.iloc[1:,:-1]\n",
        "    print('Year(s):', years)\n",
        "    #wgt = widgets.VBox([widgets.HBox([district,yearitems]),output])\n",
        "    #display( wgt )\n",
        "    with output:\n",
        "        sb.heatmap( cr, center=0 )\n",
        "    \n",
        "\n",
        "wgts = widgets.interactive( update, select=district, years=yearitems )\n",
        "display( wgts )"
      ],
      "metadata": {
        "colab": {
          "base_uri": "https://localhost:8080/",
          "height": 921,
          "referenced_widgets": [
            "f7f5c0be6b1d4ee0bb3f6f6c4c3e96a2",
            "c1e0cc30e2db48268854fe4282d310f2",
            "b1ce5af4d7e64fe09d82f572cda5ad28",
            "fbb2863babd744649aa461a551522c65",
            "b63117b893784730a7aa0d509526e19f",
            "ff7c84e2bdae462a8c2f8a193cfb3bfa",
            "2c775977bcf846ae854314fc4e562064",
            "d62b9f68b6164988bee1fed9655a1021",
            "b6fd31a424d84604ab2de5d693e62458",
            "3b3f3b86381c41e08c89d7c313b1a07e"
          ]
        },
        "id": "2ppfre2LH56V",
        "outputId": "6870f003-58c4-4838-f61b-ec29c7ee8ea5"
      },
      "execution_count": 56,
      "outputs": [
        {
          "output_type": "display_data",
          "data": {
            "text/plain": [
              "interactive(children=(SelectMultiple(description='Item', index=(0, 1, 2, 3, 4, 5, 6, 7, 8, 9, 10, 11, 12, 13, …"
            ],
            "application/vnd.jupyter.widget-view+json": {
              "version_major": 2,
              "version_minor": 0,
              "model_id": "f7f5c0be6b1d4ee0bb3f6f6c4c3e96a2"
            }
          },
          "metadata": {}
        }
      ]
    },
    {
      "cell_type": "code",
      "source": [
        "from vega_datasets import data\n",
        "songs= data."
      ],
      "outputs": [],
      "execution_count": null,
      "metadata": {
        "jupyter": {
          "source_hidden": false,
          "outputs_hidden": false
        },
        "nteract": {
          "transient": {
            "deleting": false
          }
        },
        "id": "vNcUOWCA4rrG"
      }
    },
    {
      "cell_type": "markdown",
      "source": [
        "2\\. Konzeption\n",
        "----------\n",
        "\n"
      ],
      "metadata": {
        "nteract": {
          "transient": {
            "deleting": false
          }
        },
        "id": "of2Rj5cu4rrH"
      }
    },
    {
      "cell_type": "markdown",
      "source": [
        "### Related Work\n",
        "\n",
        "<a style=\"color:gray\">\n",
        "Welche Visualisierungstechniken haben Sie inspiriert (z.B. aus dem Internet, Vorlesungsfolien, Paper)?\n",
        "<a>"
      ],
      "metadata": {
        "nteract": {
          "transient": {
            "deleting": false
          }
        },
        "id": "NXwmbTTN4rrH"
      }
    },
    {
      "cell_type": "markdown",
      "source": [
        "### Sketching\n",
        "\n",
        "<a style=\"color:gray\">\n",
        "Diskutieren Sie verschiedene Alternativen zur Lösung der Aufgaben und laden Sie Skizzen dazu in die Dokumentation (mindestens 3 Skizzen pro Teammitglied, die für eine oder Kombination der Teilaufgaben geeignet ist)!\n",
        "</a>\n"
      ],
      "metadata": {
        "nteract": {
          "transient": {
            "deleting": false
          }
        },
        "id": "kYKwxHjn4rrH"
      }
    },
    {
      "cell_type": "markdown",
      "source": [
        "### Konzept\n",
        "\n",
        "<a style=\"color:gray\">\n",
        "Beschreiben Sie das finale Konzept und begründen Sie die Designentscheidungen!<br>\n",
        "Welche Visualisierungstechniken haben Sie eingesetzt und warum?<br>\n",
        "Welche Interaktionstechniken werden eingesetzt und warum?<br>\n",
        "</a>\n",
        "<span style=\"color:red\">_TODO until 04.06.2022 12:00_</style>"
      ],
      "metadata": {
        "nteract": {
          "transient": {
            "deleting": false
          }
        },
        "id": "r3duoj8M4rrH"
      }
    },
    {
      "cell_type": "markdown",
      "source": [
        "3\\. Prototyp\n",
        "--------\n",
        "\n"
      ],
      "metadata": {
        "nteract": {
          "transient": {
            "deleting": false
          }
        },
        "id": "6IYHSdix4rrI"
      }
    },
    {
      "cell_type": "markdown",
      "source": [
        "### Umsetzung\n",
        "\n",
        "<a style=\"color:gray\">\n",
        "Kurze Beschreibung des Prototypen und der Sichten (sofern möglich, den Link zum finalen Prototypen angeben oder Screenshot)<br>\n",
        "Mit welchen Tool wurde der Prototyp umgesetzt?<br>\n",
        "Inwieweit mussten Sie die Konzepte bei der Implementierung anpassen?<br>\n",
        "</a>\n"
      ],
      "metadata": {
        "nteract": {
          "transient": {
            "deleting": false
          }
        },
        "id": "FN8lkf0J4rrI"
      }
    },
    {
      "cell_type": "markdown",
      "source": [
        "### Diskussion & Insights\n",
        "\n",
        "<a style=\"color:gray\">\n",
        "Diskutieren Sie die Ergebnisse und Erkenntnisse! Nutzen Sie wenn möglich Screenshots um die Findings zu dokumentieren!<br>\n",
        "Konnten Sie die eingangs gestellten Fragen eindeutig beantworten? Wenn nein, warum?<br>\n",
        "</a>\n",
        "<span style=\"color:red\">_TODO until 03.07.2022 23:55_</style>"
      ],
      "metadata": {
        "nteract": {
          "transient": {
            "deleting": false
          }
        },
        "id": "_MBLf_s14rrI"
      }
    },
    {
      "cell_type": "markdown",
      "source": [
        "4\\. Imports and Code\n",
        "----------------\n",
        "<a style=\"color:gray\">\n",
        "_Sollten Sie zusätzliche Imports oder zusätzlichen Quellcode benötigen, der die Lesbarkeit der Dokumentation erschwert, dann können Sie diese hier unten einfügen_<br>\n",
        "</a>\n"
      ],
      "metadata": {
        "nteract": {
          "transient": {
            "deleting": false
          }
        },
        "id": "9NjPWv-h4rrJ"
      }
    },
    {
      "cell_type": "markdown",
      "source": [
        "Credit: [Projektdokumentation Informationsvisualisierung (17\\_VIS2I) by Mandy Keck](https://observablehq.com/@mandykeck/projektdokumentation_vis22)"
      ],
      "metadata": {
        "nteract": {
          "transient": {
            "deleting": false
          }
        },
        "id": "BMPtq8eq4rrK"
      }
    }
  ],
  "metadata": {
    "kernelspec": {
      "name": "python3",
      "display_name": "Python 3"
    },
    "language_info": {
      "name": "python"
    },
    "kernel_info": {
      "name": "python38-azureml"
    },
    "microsoft": {
      "host": {
        "AzureML": {
          "notebookHasBeenCompleted": true
        }
      }
    },
    "nteract": {
      "version": "nteract-front-end@1.0.0"
    },
    "colab": {
      "name": "VIS.ipynb",
      "provenance": [],
      "toc_visible": true
    },
    "widgets": {
      "application/vnd.jupyter.widget-state+json": {
        "f7f5c0be6b1d4ee0bb3f6f6c4c3e96a2": {
          "model_module": "@jupyter-widgets/controls",
          "model_name": "VBoxModel",
          "model_module_version": "1.5.0",
          "state": {
            "_dom_classes": [
              "widget-interact"
            ],
            "_model_module": "@jupyter-widgets/controls",
            "_model_module_version": "1.5.0",
            "_model_name": "VBoxModel",
            "_view_count": null,
            "_view_module": "@jupyter-widgets/controls",
            "_view_module_version": "1.5.0",
            "_view_name": "VBoxView",
            "box_style": "",
            "children": [
              "IPY_MODEL_c1e0cc30e2db48268854fe4282d310f2",
              "IPY_MODEL_b1ce5af4d7e64fe09d82f572cda5ad28",
              "IPY_MODEL_fbb2863babd744649aa461a551522c65"
            ],
            "layout": "IPY_MODEL_b63117b893784730a7aa0d509526e19f"
          }
        },
        "c1e0cc30e2db48268854fe4282d310f2": {
          "model_module": "@jupyter-widgets/controls",
          "model_name": "SelectMultipleModel",
          "model_module_version": "1.5.0",
          "state": {
            "_dom_classes": [],
            "_model_module": "@jupyter-widgets/controls",
            "_model_module_version": "1.5.0",
            "_model_name": "SelectMultipleModel",
            "_options_labels": [
              "danceability",
              "energy",
              "key",
              "loudness",
              "is_major",
              "speechiness",
              "acousticness",
              "instrumentalness",
              "liveness",
              "valence",
              "tempo",
              "duration_ms",
              "tact/4",
              "chorus_hit",
              "sections",
              "is_hit"
            ],
            "_view_count": null,
            "_view_module": "@jupyter-widgets/controls",
            "_view_module_version": "1.5.0",
            "_view_name": "SelectMultipleView",
            "description": "Item",
            "description_tooltip": null,
            "disabled": false,
            "index": [
              2,
              3,
              5,
              7,
              9,
              10,
              12,
              13,
              15
            ],
            "layout": "IPY_MODEL_ff7c84e2bdae462a8c2f8a193cfb3bfa",
            "rows": 16,
            "style": "IPY_MODEL_2c775977bcf846ae854314fc4e562064"
          }
        },
        "b1ce5af4d7e64fe09d82f572cda5ad28": {
          "model_module": "@jupyter-widgets/controls",
          "model_name": "SelectMultipleModel",
          "model_module_version": "1.5.0",
          "state": {
            "_dom_classes": [],
            "_model_module": "@jupyter-widgets/controls",
            "_model_module_version": "1.5.0",
            "_model_name": "SelectMultipleModel",
            "_options_labels": [
              "1960",
              "1970",
              "1980",
              "1990",
              "2000",
              "2010"
            ],
            "_view_count": null,
            "_view_module": "@jupyter-widgets/controls",
            "_view_module_version": "1.5.0",
            "_view_name": "SelectMultipleView",
            "description": "Decade",
            "description_tooltip": null,
            "disabled": false,
            "index": [
              2,
              3,
              4
            ],
            "layout": "IPY_MODEL_d62b9f68b6164988bee1fed9655a1021",
            "rows": 6,
            "style": "IPY_MODEL_b6fd31a424d84604ab2de5d693e62458"
          }
        },
        "fbb2863babd744649aa461a551522c65": {
          "model_module": "@jupyter-widgets/output",
          "model_name": "OutputModel",
          "model_module_version": "1.0.0",
          "state": {
            "_dom_classes": [],
            "_model_module": "@jupyter-widgets/output",
            "_model_module_version": "1.0.0",
            "_model_name": "OutputModel",
            "_view_count": null,
            "_view_module": "@jupyter-widgets/output",
            "_view_module_version": "1.0.0",
            "_view_name": "OutputView",
            "layout": "IPY_MODEL_3b3f3b86381c41e08c89d7c313b1a07e",
            "msg_id": "",
            "outputs": [
              {
                "output_type": "stream",
                "name": "stdout",
                "text": [
                  "Year(s): (1980, 1990, 2000)\n"
                ]
              },
              {
                "output_type": "display_data",
                "data": {
                  "text/plain": "<Figure size 576x432 with 2 Axes>",
                  "image/png": "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\n"
                },
                "metadata": {
                  "needs_background": "light"
                }
              }
            ]
          }
        },
        "b63117b893784730a7aa0d509526e19f": {
          "model_module": "@jupyter-widgets/base",
          "model_name": "LayoutModel",
          "model_module_version": "1.2.0",
          "state": {
            "_model_module": "@jupyter-widgets/base",
            "_model_module_version": "1.2.0",
            "_model_name": "LayoutModel",
            "_view_count": null,
            "_view_module": "@jupyter-widgets/base",
            "_view_module_version": "1.2.0",
            "_view_name": "LayoutView",
            "align_content": null,
            "align_items": null,
            "align_self": null,
            "border": null,
            "bottom": null,
            "display": null,
            "flex": null,
            "flex_flow": null,
            "grid_area": null,
            "grid_auto_columns": null,
            "grid_auto_flow": null,
            "grid_auto_rows": null,
            "grid_column": null,
            "grid_gap": null,
            "grid_row": null,
            "grid_template_areas": null,
            "grid_template_columns": null,
            "grid_template_rows": null,
            "height": null,
            "justify_content": null,
            "justify_items": null,
            "left": null,
            "margin": null,
            "max_height": null,
            "max_width": null,
            "min_height": null,
            "min_width": null,
            "object_fit": null,
            "object_position": null,
            "order": null,
            "overflow": null,
            "overflow_x": null,
            "overflow_y": null,
            "padding": null,
            "right": null,
            "top": null,
            "visibility": null,
            "width": null
          }
        },
        "ff7c84e2bdae462a8c2f8a193cfb3bfa": {
          "model_module": "@jupyter-widgets/base",
          "model_name": "LayoutModel",
          "model_module_version": "1.2.0",
          "state": {
            "_model_module": "@jupyter-widgets/base",
            "_model_module_version": "1.2.0",
            "_model_name": "LayoutModel",
            "_view_count": null,
            "_view_module": "@jupyter-widgets/base",
            "_view_module_version": "1.2.0",
            "_view_name": "LayoutView",
            "align_content": null,
            "align_items": null,
            "align_self": null,
            "border": null,
            "bottom": null,
            "display": "flex",
            "flex": null,
            "flex_flow": null,
            "grid_area": null,
            "grid_auto_columns": null,
            "grid_auto_flow": null,
            "grid_auto_rows": null,
            "grid_column": null,
            "grid_gap": null,
            "grid_row": null,
            "grid_template_areas": null,
            "grid_template_columns": null,
            "grid_template_rows": null,
            "height": null,
            "justify_content": null,
            "justify_items": null,
            "left": null,
            "margin": null,
            "max_height": null,
            "max_width": null,
            "min_height": null,
            "min_width": null,
            "object_fit": null,
            "object_position": null,
            "order": null,
            "overflow": null,
            "overflow_x": null,
            "overflow_y": null,
            "padding": null,
            "right": null,
            "top": null,
            "visibility": null,
            "width": null
          }
        },
        "2c775977bcf846ae854314fc4e562064": {
          "model_module": "@jupyter-widgets/controls",
          "model_name": "DescriptionStyleModel",
          "model_module_version": "1.5.0",
          "state": {
            "_model_module": "@jupyter-widgets/controls",
            "_model_module_version": "1.5.0",
            "_model_name": "DescriptionStyleModel",
            "_view_count": null,
            "_view_module": "@jupyter-widgets/base",
            "_view_module_version": "1.2.0",
            "_view_name": "StyleView",
            "description_width": ""
          }
        },
        "d62b9f68b6164988bee1fed9655a1021": {
          "model_module": "@jupyter-widgets/base",
          "model_name": "LayoutModel",
          "model_module_version": "1.2.0",
          "state": {
            "_model_module": "@jupyter-widgets/base",
            "_model_module_version": "1.2.0",
            "_model_name": "LayoutModel",
            "_view_count": null,
            "_view_module": "@jupyter-widgets/base",
            "_view_module_version": "1.2.0",
            "_view_name": "LayoutView",
            "align_content": null,
            "align_items": null,
            "align_self": null,
            "border": null,
            "bottom": null,
            "display": "flex",
            "flex": null,
            "flex_flow": null,
            "grid_area": null,
            "grid_auto_columns": null,
            "grid_auto_flow": null,
            "grid_auto_rows": null,
            "grid_column": null,
            "grid_gap": null,
            "grid_row": null,
            "grid_template_areas": null,
            "grid_template_columns": null,
            "grid_template_rows": null,
            "height": null,
            "justify_content": null,
            "justify_items": null,
            "left": null,
            "margin": null,
            "max_height": null,
            "max_width": null,
            "min_height": null,
            "min_width": null,
            "object_fit": null,
            "object_position": null,
            "order": null,
            "overflow": null,
            "overflow_x": null,
            "overflow_y": null,
            "padding": null,
            "right": null,
            "top": null,
            "visibility": null,
            "width": null
          }
        },
        "b6fd31a424d84604ab2de5d693e62458": {
          "model_module": "@jupyter-widgets/controls",
          "model_name": "DescriptionStyleModel",
          "model_module_version": "1.5.0",
          "state": {
            "_model_module": "@jupyter-widgets/controls",
            "_model_module_version": "1.5.0",
            "_model_name": "DescriptionStyleModel",
            "_view_count": null,
            "_view_module": "@jupyter-widgets/base",
            "_view_module_version": "1.2.0",
            "_view_name": "StyleView",
            "description_width": ""
          }
        },
        "3b3f3b86381c41e08c89d7c313b1a07e": {
          "model_module": "@jupyter-widgets/base",
          "model_name": "LayoutModel",
          "model_module_version": "1.2.0",
          "state": {
            "_model_module": "@jupyter-widgets/base",
            "_model_module_version": "1.2.0",
            "_model_name": "LayoutModel",
            "_view_count": null,
            "_view_module": "@jupyter-widgets/base",
            "_view_module_version": "1.2.0",
            "_view_name": "LayoutView",
            "align_content": null,
            "align_items": null,
            "align_self": null,
            "border": null,
            "bottom": null,
            "display": null,
            "flex": null,
            "flex_flow": null,
            "grid_area": null,
            "grid_auto_columns": null,
            "grid_auto_flow": null,
            "grid_auto_rows": null,
            "grid_column": null,
            "grid_gap": null,
            "grid_row": null,
            "grid_template_areas": null,
            "grid_template_columns": null,
            "grid_template_rows": null,
            "height": null,
            "justify_content": null,
            "justify_items": null,
            "left": null,
            "margin": null,
            "max_height": null,
            "max_width": null,
            "min_height": null,
            "min_width": null,
            "object_fit": null,
            "object_position": null,
            "order": null,
            "overflow": null,
            "overflow_x": null,
            "overflow_y": null,
            "padding": null,
            "right": null,
            "top": null,
            "visibility": null,
            "width": null
          }
        }
      }
    }
  },
  "nbformat": 4,
  "nbformat_minor": 0
}